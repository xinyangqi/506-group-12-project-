{
 "cells": [
  {
   "cell_type": "markdown",
   "metadata": {},
   "source": [
    "# Stats 506 group project\n",
    "\n",
    "# This script contains the analyse process of group project. We create some OLS models to analyse our question and try to use splines to improve our fit.\n",
    "\n",
    "# Author : Xinyang Qi\n",
    "\n",
    "# Update : 12/11/2019\n"
   ]
  },
  {
   "cell_type": "markdown",
   "metadata": {},
   "source": [
    "Firstly, import package and read data."
   ]
  },
  {
   "cell_type": "code",
   "execution_count": 36,
   "metadata": {},
   "outputs": [],
   "source": [
    "import pandas as pd\n",
    "import numpy as np\n",
    "import statsmodels.api as sm\n",
    "import statsmodels.formula.api as smf\n",
    "from patsy import dmatrices\n",
    "from patsy import dmatrix\n",
    "from statsmodels.stats.outliers_influence import variance_inflation_factor\n",
    "import matplotlib.pyplot as plt"
   ]
  },
  {
   "cell_type": "code",
   "execution_count": 37,
   "metadata": {},
   "outputs": [],
   "source": [
    "data1=pd.read_sas('ALQ_D.xpt')\n",
    "data2=pd.read_sas('PAQ_D.xpt')\n",
    "data3=pd.read_sas('PAQIAF_D.xpt')\n",
    "data4=pd.read_sas('SLQ_D.xpt')\n",
    "data5=pd.read_sas('DR1TOT_D.xpt')\n",
    "data6=pd.read_sas('DEMO_D.xpt')"
   ]
  },
  {
   "cell_type": "markdown",
   "metadata": {},
   "source": [
    "Then, extract and clean data."
   ]
  },
  {
   "cell_type": "code",
   "execution_count": 38,
   "metadata": {},
   "outputs": [],
   "source": [
    "data1=data1[['SEQN','ALQ130']]\n",
    "data2=data2[['SEQN','PAQ520']]\n",
    "data4=data4[['SEQN','SLD010H']]\n",
    "data3=data3[['SEQN','PADTIMES','PADDURAT']]\n",
    "data5=data5[['SEQN','DR1TKCAL','DR1TSUGR','DR1TCAFF']]\n",
    "data6=data6[['SEQN','RIAGENDR','RIDAGEYR','RIDRETH1','INDFMINC','RIDEXMON']]"
   ]
  },
  {
   "cell_type": "code",
   "execution_count": 31,
   "metadata": {},
   "outputs": [],
   "source": [
    "data=pd.merge(data1,data2,on='SEQN',how='inner')\n",
    "data=pd.merge(data,data3,on='SEQN',how='inner')\n",
    "data=pd.merge(data,data4,on='SEQN',how='inner')\n",
    "data=pd.merge(data,data5,on='SEQN',how='inner')\n",
    "data=pd.merge(data,data6,on='SEQN',how='inner')"
   ]
  },
  {
   "cell_type": "code",
   "execution_count": 35,
   "metadata": {},
   "outputs": [],
   "source": [
    "data=data[(data.PAQ520 != 9)&(data.PAQ520 != 7)]\n",
    "data=data[(data.SLD010H != 77) & (data.SLD010H != 99)]\n",
    "data=data[data.INDFMINC < 12]\n",
    "data=data[data.ALQ130<800]\n",
    "data=data.dropna()\n",
    "data=data.groupby('SEQN').mean()"
   ]
  },
  {
   "cell_type": "code",
   "execution_count": 12,
   "metadata": {},
   "outputs": [],
   "source": [
    "data.columns=['alcohol','act_level','act_times','act_durat','sleep','energy','sugars','caffeine','gender','age','race','inc','winter']"
   ]
  },
  {
   "cell_type": "code",
   "execution_count": 13,
   "metadata": {},
   "outputs": [],
   "source": [
    "data['gender']=data['gender']-1\n",
    "data['Mex']=1*(data['race']==1)\n",
    "data['Hisp']=1*(data['race']==2)\n",
    "data['NHwhite']=1*(data['race']==3)\n",
    "data['NHblack']=1*(data['race']==4)\n",
    "data['pa_high']=1*(data['act_level']==1)\n",
    "data['pa_low']=1*(data['act_level']==2)\n",
    "data['winter']=1*(data['winter']==1)\n",
    "data['pad']=data['act_times']*data['act_durat']/60\n",
    "data=data.drop(['act_level','act_times','act_durat','race'],axis=1)"
   ]
  },
  {
   "cell_type": "code",
   "execution_count": 14,
   "metadata": {},
   "outputs": [],
   "source": [
    "data['gender']=data['gender'].apply(str)\n",
    "data['Mex']=data['Mex'].apply(str)\n",
    "data['Hisp']=data['Hisp'].apply(str)\n",
    "data['NHwhite']=data['NHwhite'].apply(str)\n",
    "data['NHblack']=data['NHblack'].apply(str)\n",
    "data['pa_high']=data['pa_high'].apply(str)\n",
    "data['pa_low']=data['pa_low'].apply(str)\n",
    "data['winter']=data['winter'].apply(str)\n",
    "data1 = data._get_numeric_data()"
   ]
  },
  {
   "cell_type": "markdown",
   "metadata": {},
   "source": [
    "# Part 1\n",
    "Firstly, we create a model with all predictors in order to find the effect of activity time and other factors on sleep time."
   ]
  },
  {
   "cell_type": "code",
   "execution_count": 15,
   "metadata": {},
   "outputs": [
    {
     "name": "stdout",
     "output_type": "stream",
     "text": [
      "                            OLS Regression Results                            \n",
      "==============================================================================\n",
      "Dep. Variable:                  sleep   R-squared:                       0.057\n",
      "Model:                            OLS   Adj. R-squared:                  0.049\n",
      "Method:                 Least Squares   F-statistic:                     7.074\n",
      "Date:                Wed, 11 Dec 2019   Prob (F-statistic):           2.95e-15\n",
      "Time:                        19:45:13   Log-Likelihood:                -2864.5\n",
      "No. Observations:                1769   AIC:                             5761.\n",
      "Df Residuals:                    1753   BIC:                             5849.\n",
      "Df Model:                          15                                         \n",
      "Covariance Type:            nonrobust                                         \n",
      "=================================================================================\n",
      "                    coef    std err          t      P>|t|      [0.025      0.975]\n",
      "---------------------------------------------------------------------------------\n",
      "Intercept         6.8244      0.226     30.208      0.000       6.381       7.268\n",
      "gender[T.1.0]     0.0408      0.066      0.613      0.540      -0.090       0.171\n",
      "winter[T.1]       0.0500      0.062      0.801      0.423      -0.072       0.172\n",
      "Mex[T.1]          0.2463      0.174      1.418      0.156      -0.094       0.587\n",
      "Hisp[T.1]        -0.0009      0.223     -0.004      0.997      -0.438       0.437\n",
      "NHwhite[T.1]      0.3995      0.158      2.525      0.012       0.089       0.710\n",
      "NHblack[T.1]     -0.2755      0.169     -1.630      0.103      -0.607       0.056\n",
      "pa_high[T.1]      0.0312      0.067      0.469      0.639      -0.099       0.162\n",
      "pa_low[T.1]       0.1495      0.085      1.763      0.078      -0.017       0.316\n",
      "alcohol          -0.0328      0.013     -2.532      0.011      -0.058      -0.007\n",
      "energy         1.934e-05   3.85e-05      0.503      0.615   -5.61e-05    9.48e-05\n",
      "sugars           -0.0008      0.000     -1.617      0.106      -0.002       0.000\n",
      "caffeine         -0.0007      0.000     -4.683      0.000      -0.001      -0.000\n",
      "age               0.0033      0.002      1.700      0.089      -0.001       0.007\n",
      "inc              -0.0138      0.011     -1.299      0.194      -0.035       0.007\n",
      "pad              -0.0028      0.002     -1.632      0.103      -0.006       0.001\n",
      "==============================================================================\n",
      "Omnibus:                       56.215   Durbin-Watson:                   1.977\n",
      "Prob(Omnibus):                  0.000   Jarque-Bera (JB):               97.150\n",
      "Skew:                          -0.257   Prob(JB):                     8.02e-22\n",
      "Kurtosis:                       4.027   Cond. No.                     3.17e+04\n",
      "==============================================================================\n",
      "\n",
      "Warnings:\n",
      "[1] Standard Errors assume that the covariance matrix of the errors is correctly specified.\n",
      "[2] The condition number is large, 3.17e+04. This might indicate that there are\n",
      "strong multicollinearity or other numerical problems.\n"
     ]
    }
   ],
   "source": [
    "mod1 = smf.ols(formula='sleep ~ alcohol+energy+sugars+caffeine+gender+age+inc+winter+Mex+Hisp+NHwhite+NHblack+pa_high+pa_low+pad', data=data)\n",
    "res1 = mod1.fit()\n",
    "print(res1.summary())"
   ]
  },
  {
   "cell_type": "markdown",
   "metadata": {},
   "source": [
    "Then, in order to improve the model, we select variables based on their vif and Covariance matrix at first. Then, using backward elimination to select variables."
   ]
  },
  {
   "cell_type": "markdown",
   "metadata": {},
   "source": [
    "Create an OLS regression model based on a subset of variables. \n",
    "\n",
    "Based on the summary below, the value of adjusted R square increases and we get a better model. "
   ]
  },
  {
   "cell_type": "code",
   "execution_count": 16,
   "metadata": {},
   "outputs": [
    {
     "data": {
      "text/html": [
       "<table class=\"simpletable\">\n",
       "<caption>OLS Regression Results</caption>\n",
       "<tr>\n",
       "  <th>Dep. Variable:</th>          <td>sleep</td>      <th>  R-squared:         </th> <td>   0.055</td>\n",
       "</tr>\n",
       "<tr>\n",
       "  <th>Model:</th>                   <td>OLS</td>       <th>  Adj. R-squared:    </th> <td>   0.051</td>\n",
       "</tr>\n",
       "<tr>\n",
       "  <th>Method:</th>             <td>Least Squares</td>  <th>  F-statistic:       </th> <td>   11.48</td>\n",
       "</tr>\n",
       "<tr>\n",
       "  <th>Date:</th>             <td>Wed, 11 Dec 2019</td> <th>  Prob (F-statistic):</th> <td>1.18e-17</td>\n",
       "</tr>\n",
       "<tr>\n",
       "  <th>Time:</th>                 <td>19:45:28</td>     <th>  Log-Likelihood:    </th> <td> -2866.0</td>\n",
       "</tr>\n",
       "<tr>\n",
       "  <th>No. Observations:</th>      <td>  1769</td>      <th>  AIC:               </th> <td>   5752.</td>\n",
       "</tr>\n",
       "<tr>\n",
       "  <th>Df Residuals:</th>          <td>  1759</td>      <th>  BIC:               </th> <td>   5807.</td>\n",
       "</tr>\n",
       "<tr>\n",
       "  <th>Df Model:</th>              <td>     9</td>      <th>                     </th>     <td> </td>   \n",
       "</tr>\n",
       "<tr>\n",
       "  <th>Covariance Type:</th>      <td>nonrobust</td>    <th>                     </th>     <td> </td>   \n",
       "</tr>\n",
       "</table>\n",
       "<table class=\"simpletable\">\n",
       "<tr>\n",
       "         <td></td>            <th>coef</th>     <th>std err</th>      <th>t</th>      <th>P>|t|</th>  <th>[0.025</th>    <th>0.975]</th>  \n",
       "</tr>\n",
       "<tr>\n",
       "  <th>Intercept</th>       <td>    6.8008</td> <td>    0.150</td> <td>   45.200</td> <td> 0.000</td> <td>    6.506</td> <td>    7.096</td>\n",
       "</tr>\n",
       "<tr>\n",
       "  <th>C(Mex)[T.1]</th>     <td>    0.2624</td> <td>    0.137</td> <td>    1.921</td> <td> 0.055</td> <td>   -0.005</td> <td>    0.530</td>\n",
       "</tr>\n",
       "<tr>\n",
       "  <th>C(NHwhite)[T.1]</th> <td>    0.3811</td> <td>    0.118</td> <td>    3.217</td> <td> 0.001</td> <td>    0.149</td> <td>    0.613</td>\n",
       "</tr>\n",
       "<tr>\n",
       "  <th>C(NHblack)[T.1]</th> <td>   -0.2716</td> <td>    0.132</td> <td>   -2.058</td> <td> 0.040</td> <td>   -0.531</td> <td>   -0.013</td>\n",
       "</tr>\n",
       "<tr>\n",
       "  <th>C(pa_low)[T.1]</th>  <td>    0.1448</td> <td>    0.078</td> <td>    1.855</td> <td> 0.064</td> <td>   -0.008</td> <td>    0.298</td>\n",
       "</tr>\n",
       "<tr>\n",
       "  <th>age</th>             <td>    0.0033</td> <td>    0.002</td> <td>    1.777</td> <td> 0.076</td> <td>   -0.000</td> <td>    0.007</td>\n",
       "</tr>\n",
       "<tr>\n",
       "  <th>alcohol</th>         <td>   -0.0315</td> <td>    0.012</td> <td>   -2.611</td> <td> 0.009</td> <td>   -0.055</td> <td>   -0.008</td>\n",
       "</tr>\n",
       "<tr>\n",
       "  <th>pad</th>             <td>   -0.0025</td> <td>    0.002</td> <td>   -1.504</td> <td> 0.133</td> <td>   -0.006</td> <td>    0.001</td>\n",
       "</tr>\n",
       "<tr>\n",
       "  <th>sugars</th>          <td>   -0.0006</td> <td>    0.000</td> <td>   -1.662</td> <td> 0.097</td> <td>   -0.001</td> <td>    0.000</td>\n",
       "</tr>\n",
       "<tr>\n",
       "  <th>caffeine</th>        <td>   -0.0007</td> <td>    0.000</td> <td>   -4.709</td> <td> 0.000</td> <td>   -0.001</td> <td>   -0.000</td>\n",
       "</tr>\n",
       "</table>\n",
       "<table class=\"simpletable\">\n",
       "<tr>\n",
       "  <th>Omnibus:</th>       <td>52.889</td> <th>  Durbin-Watson:     </th> <td>   1.976</td>\n",
       "</tr>\n",
       "<tr>\n",
       "  <th>Prob(Omnibus):</th> <td> 0.000</td> <th>  Jarque-Bera (JB):  </th> <td>  91.480</td>\n",
       "</tr>\n",
       "<tr>\n",
       "  <th>Skew:</th>          <td>-0.241</td> <th>  Prob(JB):          </th> <td>1.37e-20</td>\n",
       "</tr>\n",
       "<tr>\n",
       "  <th>Kurtosis:</th>      <td> 4.004</td> <th>  Cond. No.          </th> <td>2.21e+03</td>\n",
       "</tr>\n",
       "</table><br/><br/>Warnings:<br/>[1] Standard Errors assume that the covariance matrix of the errors is correctly specified.<br/>[2] The condition number is large, 2.21e+03. This might indicate that there are<br/>strong multicollinearity or other numerical problems."
      ],
      "text/plain": [
       "<class 'statsmodels.iolib.summary.Summary'>\n",
       "\"\"\"\n",
       "                            OLS Regression Results                            \n",
       "==============================================================================\n",
       "Dep. Variable:                  sleep   R-squared:                       0.055\n",
       "Model:                            OLS   Adj. R-squared:                  0.051\n",
       "Method:                 Least Squares   F-statistic:                     11.48\n",
       "Date:                Wed, 11 Dec 2019   Prob (F-statistic):           1.18e-17\n",
       "Time:                        19:45:28   Log-Likelihood:                -2866.0\n",
       "No. Observations:                1769   AIC:                             5752.\n",
       "Df Residuals:                    1759   BIC:                             5807.\n",
       "Df Model:                           9                                         \n",
       "Covariance Type:            nonrobust                                         \n",
       "===================================================================================\n",
       "                      coef    std err          t      P>|t|      [0.025      0.975]\n",
       "-----------------------------------------------------------------------------------\n",
       "Intercept           6.8008      0.150     45.200      0.000       6.506       7.096\n",
       "C(Mex)[T.1]         0.2624      0.137      1.921      0.055      -0.005       0.530\n",
       "C(NHwhite)[T.1]     0.3811      0.118      3.217      0.001       0.149       0.613\n",
       "C(NHblack)[T.1]    -0.2716      0.132     -2.058      0.040      -0.531      -0.013\n",
       "C(pa_low)[T.1]      0.1448      0.078      1.855      0.064      -0.008       0.298\n",
       "age                 0.0033      0.002      1.777      0.076      -0.000       0.007\n",
       "alcohol            -0.0315      0.012     -2.611      0.009      -0.055      -0.008\n",
       "pad                -0.0025      0.002     -1.504      0.133      -0.006       0.001\n",
       "sugars             -0.0006      0.000     -1.662      0.097      -0.001       0.000\n",
       "caffeine           -0.0007      0.000     -4.709      0.000      -0.001      -0.000\n",
       "==============================================================================\n",
       "Omnibus:                       52.889   Durbin-Watson:                   1.976\n",
       "Prob(Omnibus):                  0.000   Jarque-Bera (JB):               91.480\n",
       "Skew:                          -0.241   Prob(JB):                     1.37e-20\n",
       "Kurtosis:                       4.004   Cond. No.                     2.21e+03\n",
       "==============================================================================\n",
       "\n",
       "Warnings:\n",
       "[1] Standard Errors assume that the covariance matrix of the errors is correctly specified.\n",
       "[2] The condition number is large, 2.21e+03. This might indicate that there are\n",
       "strong multicollinearity or other numerical problems.\n",
       "\"\"\""
      ]
     },
     "execution_count": 16,
     "metadata": {},
     "output_type": "execute_result"
    }
   ],
   "source": [
    "mod2 = smf.ols(formula='sleep ~ C(Mex)+C(NHwhite)+C(NHblack)+C(pa_low)+age+alcohol+pad+sugars+caffeine',data=data).fit()\n",
    "mod2.summary()"
   ]
  },
  {
   "cell_type": "markdown",
   "metadata": {},
   "source": [
    "From the summary above, we find that compared with other predictors, the effect of activity time is not very significant."
   ]
  },
  {
   "cell_type": "markdown",
   "metadata": {},
   "source": [
    "# Part 2\n",
    "\n",
    "secondly, we will create model to analyse the relationship between activity time and sleep time. "
   ]
  },
  {
   "cell_type": "code",
   "execution_count": 17,
   "metadata": {},
   "outputs": [
    {
     "data": {
      "text/html": [
       "<table class=\"simpletable\">\n",
       "<caption>OLS Regression Results</caption>\n",
       "<tr>\n",
       "  <th>Dep. Variable:</th>          <td>sleep</td>      <th>  R-squared:         </th> <td>   0.001</td>\n",
       "</tr>\n",
       "<tr>\n",
       "  <th>Model:</th>                   <td>OLS</td>       <th>  Adj. R-squared:    </th> <td>   0.001</td>\n",
       "</tr>\n",
       "<tr>\n",
       "  <th>Method:</th>             <td>Least Squares</td>  <th>  F-statistic:       </th> <td>   2.597</td>\n",
       "</tr>\n",
       "<tr>\n",
       "  <th>Date:</th>             <td>Wed, 11 Dec 2019</td> <th>  Prob (F-statistic):</th>  <td> 0.107</td> \n",
       "</tr>\n",
       "<tr>\n",
       "  <th>Time:</th>                 <td>19:45:31</td>     <th>  Log-Likelihood:    </th> <td> -2915.2</td>\n",
       "</tr>\n",
       "<tr>\n",
       "  <th>No. Observations:</th>      <td>  1769</td>      <th>  AIC:               </th> <td>   5834.</td>\n",
       "</tr>\n",
       "<tr>\n",
       "  <th>Df Residuals:</th>          <td>  1767</td>      <th>  BIC:               </th> <td>   5845.</td>\n",
       "</tr>\n",
       "<tr>\n",
       "  <th>Df Model:</th>              <td>     1</td>      <th>                     </th>     <td> </td>   \n",
       "</tr>\n",
       "<tr>\n",
       "  <th>Covariance Type:</th>      <td>nonrobust</td>    <th>                     </th>     <td> </td>   \n",
       "</tr>\n",
       "</table>\n",
       "<table class=\"simpletable\">\n",
       "<tr>\n",
       "      <td></td>         <th>coef</th>     <th>std err</th>      <th>t</th>      <th>P>|t|</th>  <th>[0.025</th>    <th>0.975]</th>  \n",
       "</tr>\n",
       "<tr>\n",
       "  <th>Intercept</th> <td>    6.9109</td> <td>    0.035</td> <td>  199.931</td> <td> 0.000</td> <td>    6.843</td> <td>    6.979</td>\n",
       "</tr>\n",
       "<tr>\n",
       "  <th>pad</th>       <td>   -0.0027</td> <td>    0.002</td> <td>   -1.612</td> <td> 0.107</td> <td>   -0.006</td> <td>    0.001</td>\n",
       "</tr>\n",
       "</table>\n",
       "<table class=\"simpletable\">\n",
       "<tr>\n",
       "  <th>Omnibus:</th>       <td>61.688</td> <th>  Durbin-Watson:     </th> <td>   2.007</td>\n",
       "</tr>\n",
       "<tr>\n",
       "  <th>Prob(Omnibus):</th> <td> 0.000</td> <th>  Jarque-Bera (JB):  </th> <td>  90.840</td>\n",
       "</tr>\n",
       "<tr>\n",
       "  <th>Skew:</th>          <td>-0.333</td> <th>  Prob(JB):          </th> <td>1.88e-20</td>\n",
       "</tr>\n",
       "<tr>\n",
       "  <th>Kurtosis:</th>      <td> 3.888</td> <th>  Cond. No.          </th> <td>    23.5</td>\n",
       "</tr>\n",
       "</table><br/><br/>Warnings:<br/>[1] Standard Errors assume that the covariance matrix of the errors is correctly specified."
      ],
      "text/plain": [
       "<class 'statsmodels.iolib.summary.Summary'>\n",
       "\"\"\"\n",
       "                            OLS Regression Results                            \n",
       "==============================================================================\n",
       "Dep. Variable:                  sleep   R-squared:                       0.001\n",
       "Model:                            OLS   Adj. R-squared:                  0.001\n",
       "Method:                 Least Squares   F-statistic:                     2.597\n",
       "Date:                Wed, 11 Dec 2019   Prob (F-statistic):              0.107\n",
       "Time:                        19:45:31   Log-Likelihood:                -2915.2\n",
       "No. Observations:                1769   AIC:                             5834.\n",
       "Df Residuals:                    1767   BIC:                             5845.\n",
       "Df Model:                           1                                         \n",
       "Covariance Type:            nonrobust                                         \n",
       "==============================================================================\n",
       "                 coef    std err          t      P>|t|      [0.025      0.975]\n",
       "------------------------------------------------------------------------------\n",
       "Intercept      6.9109      0.035    199.931      0.000       6.843       6.979\n",
       "pad           -0.0027      0.002     -1.612      0.107      -0.006       0.001\n",
       "==============================================================================\n",
       "Omnibus:                       61.688   Durbin-Watson:                   2.007\n",
       "Prob(Omnibus):                  0.000   Jarque-Bera (JB):               90.840\n",
       "Skew:                          -0.333   Prob(JB):                     1.88e-20\n",
       "Kurtosis:                       3.888   Cond. No.                         23.5\n",
       "==============================================================================\n",
       "\n",
       "Warnings:\n",
       "[1] Standard Errors assume that the covariance matrix of the errors is correctly specified.\n",
       "\"\"\""
      ]
     },
     "execution_count": 17,
     "metadata": {},
     "output_type": "execute_result"
    }
   ],
   "source": [
    "mod3 = smf.ols(formula='sleep ~ pad',data = data).fit()\n",
    "mod3.summary()"
   ]
  },
  {
   "cell_type": "code",
   "execution_count": 18,
   "metadata": {},
   "outputs": [
    {
     "data": {
      "image/png": "[encoded data removed]",
      "text/plain": [
       "<Figure size 432x288 with 1 Axes>"
      ]
     },
     "metadata": {
      "needs_background": "light"
     },
     "output_type": "display_data"
    }
   ],
   "source": [
    "plt.scatter(data.pad,data.sleep)\n",
    "plt.plot(data.pad,mod3.predict(),color = 'red')\n",
    "plt.show()"
   ]
  },
  {
   "cell_type": "markdown",
   "metadata": {},
   "source": [
    "From the graph above, we find that although the fitted line has a curvature, it is not convincing."
   ]
  },
  {
   "cell_type": "markdown",
   "metadata": {},
   "source": [
    "Because alcohol data is not available for respondents age under 20, we try to create model with full dataset.\n",
    "\n",
    "And because reported sleep should be an approximate value, we will give each sleep time a random disturbance to let 'sleep time' become a continuous variable. "
   ]
  },
  {
   "cell_type": "code",
   "execution_count": 19,
   "metadata": {},
   "outputs": [],
   "source": [
    "data_pad = pd.merge(data3,data4,on='SEQN',how='inner')\n",
    "data_pad = data_pad[data_pad.SLD010H != 77]\n",
    "data_pad = data_pad[data_pad.SLD010H != 99]\n",
    "data_pad = data_pad.dropna()\n",
    "data_pad = data_pad.groupby('SEQN').mean()\n",
    "data_pad['pad']=data_pad['PADTIMES']*data_pad['PADDURAT']/60\n",
    "data_pad = data_pad.drop(['PADTIMES','PADDURAT'],axis=1)\n",
    "data_pad.columns = ['sleep','pad']"
   ]
  },
  {
   "cell_type": "code",
   "execution_count": 20,
   "metadata": {},
   "outputs": [],
   "source": [
    "eps = np.random.normal(0,0.1,size = data_pad.shape[0])"
   ]
  },
  {
   "cell_type": "code",
   "execution_count": 21,
   "metadata": {},
   "outputs": [],
   "source": [
    "data_pad['sleep']=data_pad['sleep']+eps"
   ]
  },
  {
   "cell_type": "code",
   "execution_count": 23,
   "metadata": {},
   "outputs": [
    {
     "data": {
      "text/html": [
       "<table class=\"simpletable\">\n",
       "<caption>OLS Regression Results</caption>\n",
       "<tr>\n",
       "  <th>Dep. Variable:</th>          <td>sleep</td>      <th>  R-squared:         </th> <td>   0.000</td> \n",
       "</tr>\n",
       "<tr>\n",
       "  <th>Model:</th>                   <td>OLS</td>       <th>  Adj. R-squared:    </th> <td>  -0.000</td> \n",
       "</tr>\n",
       "<tr>\n",
       "  <th>Method:</th>             <td>Least Squares</td>  <th>  F-statistic:       </th> <td>  0.4171</td> \n",
       "</tr>\n",
       "<tr>\n",
       "  <th>Date:</th>             <td>Wed, 11 Dec 2019</td> <th>  Prob (F-statistic):</th>  <td> 0.518</td>  \n",
       "</tr>\n",
       "<tr>\n",
       "  <th>Time:</th>                 <td>19:45:41</td>     <th>  Log-Likelihood:    </th> <td> -6826.8</td> \n",
       "</tr>\n",
       "<tr>\n",
       "  <th>No. Observations:</th>      <td>  3946</td>      <th>  AIC:               </th> <td>1.366e+04</td>\n",
       "</tr>\n",
       "<tr>\n",
       "  <th>Df Residuals:</th>          <td>  3944</td>      <th>  BIC:               </th> <td>1.367e+04</td>\n",
       "</tr>\n",
       "<tr>\n",
       "  <th>Df Model:</th>              <td>     1</td>      <th>                     </th>     <td> </td>    \n",
       "</tr>\n",
       "<tr>\n",
       "  <th>Covariance Type:</th>      <td>nonrobust</td>    <th>                     </th>     <td> </td>    \n",
       "</tr>\n",
       "</table>\n",
       "<table class=\"simpletable\">\n",
       "<tr>\n",
       "      <td></td>         <th>coef</th>     <th>std err</th>      <th>t</th>      <th>P>|t|</th>  <th>[0.025</th>    <th>0.975]</th>  \n",
       "</tr>\n",
       "<tr>\n",
       "  <th>Intercept</th> <td>    7.0035</td> <td>    0.026</td> <td>  269.211</td> <td> 0.000</td> <td>    6.953</td> <td>    7.055</td>\n",
       "</tr>\n",
       "<tr>\n",
       "  <th>pad</th>       <td>   -0.0008</td> <td>    0.001</td> <td>   -0.646</td> <td> 0.518</td> <td>   -0.003</td> <td>    0.002</td>\n",
       "</tr>\n",
       "</table>\n",
       "<table class=\"simpletable\">\n",
       "<tr>\n",
       "  <th>Omnibus:</th>       <td>84.655</td> <th>  Durbin-Watson:     </th> <td>   2.005</td>\n",
       "</tr>\n",
       "<tr>\n",
       "  <th>Prob(Omnibus):</th> <td> 0.000</td> <th>  Jarque-Bera (JB):  </th> <td> 172.595</td>\n",
       "</tr>\n",
       "<tr>\n",
       "  <th>Skew:</th>          <td>-0.096</td> <th>  Prob(JB):          </th> <td>3.32e-38</td>\n",
       "</tr>\n",
       "<tr>\n",
       "  <th>Kurtosis:</th>      <td> 4.006</td> <th>  Cond. No.          </th> <td>    23.7</td>\n",
       "</tr>\n",
       "</table><br/><br/>Warnings:<br/>[1] Standard Errors assume that the covariance matrix of the errors is correctly specified."
      ],
      "text/plain": [
       "<class 'statsmodels.iolib.summary.Summary'>\n",
       "\"\"\"\n",
       "                            OLS Regression Results                            \n",
       "==============================================================================\n",
       "Dep. Variable:                  sleep   R-squared:                       0.000\n",
       "Model:                            OLS   Adj. R-squared:                 -0.000\n",
       "Method:                 Least Squares   F-statistic:                    0.4171\n",
       "Date:                Wed, 11 Dec 2019   Prob (F-statistic):              0.518\n",
       "Time:                        19:45:41   Log-Likelihood:                -6826.8\n",
       "No. Observations:                3946   AIC:                         1.366e+04\n",
       "Df Residuals:                    3944   BIC:                         1.367e+04\n",
       "Df Model:                           1                                         \n",
       "Covariance Type:            nonrobust                                         \n",
       "==============================================================================\n",
       "                 coef    std err          t      P>|t|      [0.025      0.975]\n",
       "------------------------------------------------------------------------------\n",
       "Intercept      7.0035      0.026    269.211      0.000       6.953       7.055\n",
       "pad           -0.0008      0.001     -0.646      0.518      -0.003       0.002\n",
       "==============================================================================\n",
       "Omnibus:                       84.655   Durbin-Watson:                   2.005\n",
       "Prob(Omnibus):                  0.000   Jarque-Bera (JB):              172.595\n",
       "Skew:                          -0.096   Prob(JB):                     3.32e-38\n",
       "Kurtosis:                       4.006   Cond. No.                         23.7\n",
       "==============================================================================\n",
       "\n",
       "Warnings:\n",
       "[1] Standard Errors assume that the covariance matrix of the errors is correctly specified.\n",
       "\"\"\""
      ]
     },
     "execution_count": 23,
     "metadata": {},
     "output_type": "execute_result"
    }
   ],
   "source": [
    "mod6 = smf.ols(formula='sleep ~ pad',data = data_pad).fit()\n",
    "mod6.summary()"
   ]
  },
  {
   "cell_type": "code",
   "execution_count": 25,
   "metadata": {},
   "outputs": [
    {
     "data": {
      "image/png": "[encoded data removed]",
      "text/plain": [
       "<Figure size 432x288 with 1 Axes>"
      ]
     },
     "metadata": {
      "needs_background": "light"
     },
     "output_type": "display_data"
    }
   ],
   "source": [
    "plt.scatter(data_pad.pad,data_pad.sleep)\n",
    "plt.plot(data_pad.pad,mod6.predict(),color = 'red')\n",
    "plt.show()"
   ]
  },
  {
   "cell_type": "markdown",
   "metadata": {},
   "source": [
    "From the summary, we can find that activity time still have very little effect on sleep time. \n",
    "\n",
    "Maybe the activity time does not have a linear relationship with sleep time. So we decide to use spline regression to try to improve its fit."
   ]
  },
  {
   "cell_type": "code",
   "execution_count": 26,
   "metadata": {},
   "outputs": [],
   "source": [
    "transformed_x1 = dmatrix(\"bs(data_pad.pad, df=3, degree = 3, include_intercept=False)\",\n",
    "                        {\"data_pad.pad\": data_pad.pad}, return_type='dataframe')"
   ]
  },
  {
   "cell_type": "code",
   "execution_count": 27,
   "metadata": {},
   "outputs": [
    {
     "name": "stdout",
     "output_type": "stream",
     "text": [
      "                 Generalized Linear Model Regression Results                  \n",
      "==============================================================================\n",
      "Dep. Variable:                  sleep   No. Observations:                 3946\n",
      "Model:                            GLM   Df Residuals:                     3942\n",
      "Model Family:                Gaussian   Df Model:                            3\n",
      "Link Function:               identity   Scale:                          1.8610\n",
      "Method:                          IRLS   Log-Likelihood:                -6822.6\n",
      "Date:                Wed, 11 Dec 2019   Deviance:                       7336.0\n",
      "Time:                        19:46:16   Pearson chi2:                 7.34e+03\n",
      "No. Iterations:                     3                                         \n",
      "Covariance Type:            nonrobust                                         \n",
      "================================================================================================================================\n",
      "                                                                   coef    std err          z      P>|z|      [0.025      0.975]\n",
      "--------------------------------------------------------------------------------------------------------------------------------\n",
      "Intercept                                                        6.9424      0.034    204.310      0.000       6.876       7.009\n",
      "bs(data_pad.pad, df=3, degree=3, include_intercept=False)[0]     0.8500      0.390      2.178      0.029       0.085       1.615\n",
      "bs(data_pad.pad, df=3, degree=3, include_intercept=False)[1]    -2.0890      1.273     -1.641      0.101      -4.584       0.406\n",
      "bs(data_pad.pad, df=3, degree=3, include_intercept=False)[2]    -1.1206      1.082     -1.035      0.301      -3.242       1.001\n",
      "================================================================================================================================\n"
     ]
    }
   ],
   "source": [
    "mod7 = sm.GLM(data_pad.sleep, transformed_x1).fit()\n",
    "print(mod7.summary())"
   ]
  },
  {
   "cell_type": "code",
   "execution_count": 28,
   "metadata": {},
   "outputs": [
    {
     "data": {
      "image/png": "[encoded data removed]",
      "text/plain": [
       "<Figure size 432x288 with 1 Axes>"
      ]
     },
     "metadata": {
      "needs_background": "light"
     },
     "output_type": "display_data"
    }
   ],
   "source": [
    "plt.scatter(data_pad.pad,data_pad.sleep)\n",
    "plt.plot(data_pad.pad,mod7.predict(),color = 'red')\n",
    "plt.show()"
   ]
  },
  {
   "cell_type": "markdown",
   "metadata": {},
   "source": [
    "Based on the summary and graph above, although the spline regression improve the fit slightly, the relationship between sleep time and activity time is still not strong."
   ]
  },
  {
   "cell_type": "markdown",
   "metadata": {},
   "source": [
    "Base on all the analyse above, although all models have a weak trend that people who do activity for longer time tend to sleep less, we have to conclude that compared with the effect of alcohol and caffeine on sleep time, the effect of activity time is much little."
   ]
  },
  {
   "cell_type": "code",
   "execution_count": null,
   "metadata": {},
   "outputs": [],
   "source": []
  }
 ],
 "metadata": {
  "kernelspec": {
   "display_name": "Python 3",
   "language": "python",
   "name": "python3"
  },
  "language_info": {
   "codemirror_mode": {
    "name": "ipython",
    "version": 3
   },
   "file_extension": ".py",
   "mimetype": "text/x-python",
   "name": "python",
   "nbconvert_exporter": "python",
   "pygments_lexer": "ipython3",
   "version": "3.7.3"
  }
 },
 "nbformat": 4,
 "nbformat_minor": 2
}
